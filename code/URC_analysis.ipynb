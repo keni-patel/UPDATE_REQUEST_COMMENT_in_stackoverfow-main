{
 "cells": [
  {
   "cell_type": "code",
   "execution_count": 2,
   "id": "1d025a18",
   "metadata": {},
   "outputs": [],
   "source": [
    "#importing required libraries\n",
    "import numpy as np\n",
    "import pandas as pd\n",
    "import matplotlib.pyplot as plt\n"
   ]
  },
  {
   "cell_type": "code",
   "execution_count": 20,
   "id": "db539f7b",
   "metadata": {},
   "outputs": [],
   "source": [
    "df = pd.read_csv(\"python_comments_posts.csv\")#loading dataset\n",
    "post_df = pd.read_csv('python_posts.csv')"
   ]
  },
  {
   "cell_type": "code",
   "execution_count": 6,
   "id": "ccd7d8ea",
   "metadata": {},
   "outputs": [],
   "source": [
    "# Research question 1"
   ]
  },
  {
   "cell_type": "code",
   "execution_count": 36,
   "id": "c2d5921f",
   "metadata": {},
   "outputs": [
    {
     "name": "stdout",
     "output_type": "stream",
     "text": [
      "Percentage of comments that  are URCs: 41.16%\n",
      "Number of comments that are URCs: 440\n"
     ]
    }
   ],
   "source": [
    "total_comments = len(df)\n",
    "\n",
    "#How many comments are URC?\n",
    "selected_rows = df[ (df[\"need_update\"] == \"update\") ] \n",
    "num_selected_rows = len(selected_rows)\n",
    "\n",
    "# Calculate the percentage of selected rows from the total number of comments\n",
    "percentage = (num_selected_rows / total_comments) * 100\n",
    "\n",
    "# Print the result\n",
    "print(\"Percentage of comments that  are URCs: {:.2f}%\".format(percentage))\n",
    "print(\"Number of comments that are URCs:\", len(selected_rows))"
   ]
  },
  {
   "cell_type": "code",
   "execution_count": 42,
   "id": "9819732f",
   "metadata": {},
   "outputs": [
    {
     "name": "stdout",
     "output_type": "stream",
     "text": [
      "Percentage of URCs that are addressed (either in post or next comments): 32.65%\n",
      "Number of URCs that are addressed (either in post or next comments)s: 349\n"
     ]
    }
   ],
   "source": [
    "#How many of URCs are addressed (either in post or next comments)?\n",
    "\n",
    "selected_rows = df[(df[\"addressed_in\"] != \"no\") & (df[\"need_update\"] == \"update\")]\n",
    "\n",
    "# count the number of selected rows\n",
    "num_selected_rows = len(selected_rows)\n",
    "percentage = (num_selected_rows / total_comments) * 100\n",
    "\n",
    "# Print the result\n",
    "print(\"Percentage of URCs that are addressed (either in post or next comments): {:.2f}%\".format(percentage))\n",
    "print(\"Number of URCs that are addressed (either in post or next comments)s:\", num_selected_rows)"
   ]
  },
  {
   "cell_type": "code",
   "execution_count": 43,
   "id": "4b0e45ff",
   "metadata": {},
   "outputs": [
    {
     "name": "stdout",
     "output_type": "stream",
     "text": [
      "Percentage of URCs that are addressed in the next comments: 23.57%\n",
      "Number of URCs that are addressed in the next comments: 252\n"
     ]
    }
   ],
   "source": [
    "#How many of the addressed URCs are addressed in the next comments?\n",
    "selected_rows = df[((df[\"addressed_in\"] == \"comment\") | (df[\"addressed_in\"] == \"both\")) & (df[\"need_update\"] == \"update\")]\n",
    "\n",
    "# count the number of selected rows\n",
    "num_selected_rows = len(selected_rows)\n",
    "percentage = (num_selected_rows / total_comments) * 100\n",
    "\n",
    "# Print the result\n",
    "print(\"Percentage of URCs that are addressed in the next comments: {:.2f}%\".format(percentage))print(\"Number of URCs that are addressed in the next comments:\", num_selected_rows)"
   ]
  },
  {
   "cell_type": "code",
   "execution_count": 44,
   "id": "3978a046",
   "metadata": {},
   "outputs": [
    {
     "name": "stdout",
     "output_type": "stream",
     "text": [
      "Percentage of URCs that are addressed in the post body: 15.90%\n",
      "Number of URCs that are addressed in the post body: 170\n"
     ]
    }
   ],
   "source": [
    "#How many of the addressed URCs are addressed in the post body?\n",
    "\n",
    "selected_rows = df[ (df[\"addressed_in\"] == \"post\") ] \n",
    "select_row =df[ (df[\"addressed_in\"] == \"both\")]\n",
    "\n",
    "# count the number of selected rows\n",
    "num_selected_rows = len(selected_rows) +len(select_row)\n",
    "percentage = (num_selected_rows / total_comments) * 100\n",
    "\n",
    "# Print the result\n",
    "print(\"Percentage of URCs that are addressed in the post body: {:.2f}%\".format(percentage))\n",
    "print(\"Number of URCs that are addressed in the post body:\", num_selected_rows)\n"
   ]
  },
  {
   "cell_type": "code",
   "execution_count": 45,
   "id": "98689552",
   "metadata": {},
   "outputs": [
    {
     "name": "stdout",
     "output_type": "stream",
     "text": [
      "Percentage of URCs that are addressed both in the next comments and the post body: 7.02%\n",
      "Number of URCs that are addressed both in the next comments and the post body: 75\n"
     ]
    }
   ],
   "source": [
    "#How many of the addressed URCs are addressed both in the next comments and the post body?\n",
    "select_row =df[ (df[\"addressed_in\"] == \"both\")]\n",
    "\n",
    "# count the number of selected rows\n",
    "num_selected_rows = len(select_row) \n",
    "\n",
    "percentage = (num_selected_rows / total_comments) * 100\n",
    "\n",
    "# Print the result\n",
    "print(\"Percentage of URCs that are addressed both in the next comments and the post body: {:.2f}%\".format(percentage))\n",
    "print(\"Number of URCs that are addressed both in the next comments and the post body:\", num_selected_rows)\n",
    "\n"
   ]
  },
  {
   "cell_type": "code",
   "execution_count": 25,
   "id": "2af527ec",
   "metadata": {},
   "outputs": [],
   "source": [
    "#research question 4"
   ]
  },
  {
   "cell_type": "code",
   "execution_count": 17,
   "id": "b559fab0",
   "metadata": {},
   "outputs": [
    {
     "name": "stdout",
     "output_type": "stream",
     "text": [
      "Quantiles for update request comments:\n",
      "0.50     1.00\n",
      "0.75     4.00\n",
      "0.80     4.00\n",
      "0.85     6.00\n",
      "0.90     8.00\n",
      "0.95    16.05\n",
      "Name: Score, dtype: float64\n",
      "Quantiles for non-update request comments:\n",
      "0.50     2.0\n",
      "0.75     4.0\n",
      "0.80     6.0\n",
      "0.85     7.8\n",
      "0.90    11.0\n",
      "0.95    24.6\n",
      "Name: Score, dtype: float64\n"
     ]
    }
   ],
   "source": [
    "# Calculate the quantiles for update request comments\n",
    "update_comments = df[df[\"need_update\"] == 'update']\n",
    "update_quantiles = update_comments[\"Score\"].quantile([0.5, 0.75, 0.80, 0.85, 0.90, 0.95])\n",
    "\n",
    "# Calculate the quantiles for non-update request comments\n",
    "non_update_comments = df[df[\"need_update\"] == 'no update']\n",
    "non_update_quantiles = non_update_comments[\"Score\"].quantile([0.5, 0.75, 0.80, 0.85, 0.90, 0.95])\n",
    "\n",
    "# Print the results\n",
    "print(\"Quantiles for update request comments:\")\n",
    "print(update_quantiles)\n",
    "print(\"Quantiles for non-update request comments:\")\n",
    "print(non_update_quantiles)"
   ]
  },
  {
   "cell_type": "code",
   "execution_count": 18,
   "id": "178b71fb",
   "metadata": {},
   "outputs": [],
   "source": [
    "#Research Question2"
   ]
  },
  {
   "cell_type": "code",
   "execution_count": 21,
   "id": "d72321f1",
   "metadata": {},
   "outputs": [],
   "source": [
    "merged_df = pd.merge(post_df, df, left_on='Id', right_on='QuestionId')#merge dataset to get creation_date and last_editor date"
   ]
  },
  {
   "cell_type": "code",
   "execution_count": 46,
   "id": "b0520748",
   "metadata": {},
   "outputs": [
    {
     "data": {
      "text/plain": [
       "Index(['Id', 'PostTypeId', 'CreationDate_x', 'Score_x', 'ViewCount', 'Tags_x',\n",
       "       'Title', 'Body', 'POSTTYPEID', 'ACCEPTEDANSWERID', 'ParentId', 'score',\n",
       "       'OwnerUserId_x', 'LastEditoruserid', 'LastActivityDate', 'LastEditDate',\n",
       "       'AnswerCount', 'CommentCount', 'closed_date', 'Community_owned_date',\n",
       "       'QuestionId', 'Tags_y', 'answer_Id', 'OwnerUserId_y',\n",
       "       'LastEditor_Userid', 'commentId', 'Score_y', 'Text', 'CreationDate_y',\n",
       "       'AdrressedbyCommentId', 'need_update', 'addressed_in'],\n",
       "      dtype='object')"
      ]
     },
     "execution_count": 46,
     "metadata": {},
     "output_type": "execute_result"
    }
   ],
   "source": [
    "update_df = merged_df[merged_df['need_update'] == 'update']\n",
    "update_df.columns"
   ]
  },
  {
   "cell_type": "code",
   "execution_count": 47,
   "id": "a88f6e31",
   "metadata": {},
   "outputs": [
    {
     "name": "stdout",
     "output_type": "stream",
     "text": [
      "The average time taken to edit a comment after an update is 95 days 05:44:53.769366906.\n"
     ]
    },
    {
     "name": "stderr",
     "output_type": "stream",
     "text": [
      "C:\\Users\\om\\AppData\\Local\\Temp\\ipykernel_5792\\4155034971.py:2: SettingWithCopyWarning: \n",
      "A value is trying to be set on a copy of a slice from a DataFrame.\n",
      "Try using .loc[row_indexer,col_indexer] = value instead\n",
      "\n",
      "See the caveats in the documentation: https://pandas.pydata.org/pandas-docs/stable/user_guide/indexing.html#returning-a-view-versus-a-copy\n",
      "  update_df[date_cols] = update_df[date_cols].apply(pd.to_datetime)\n",
      "C:\\Users\\om\\AppData\\Local\\Temp\\ipykernel_5792\\4155034971.py:3: SettingWithCopyWarning: \n",
      "A value is trying to be set on a copy of a slice from a DataFrame.\n",
      "Try using .loc[row_indexer,col_indexer] = value instead\n",
      "\n",
      "See the caveats in the documentation: https://pandas.pydata.org/pandas-docs/stable/user_guide/indexing.html#returning-a-view-versus-a-copy\n",
      "  update_df['edit_time'] = update_df['LastEditDate'] - update_df['CreationDate_x']\n"
     ]
    }
   ],
   "source": [
    "date_cols = ['CreationDate_y', 'LastActivityDate', 'LastEditDate', 'CreationDate_x']\n",
    "update_df[date_cols] = update_df[date_cols].apply(pd.to_datetime)\n",
    "update_df['edit_time'] = update_df['LastEditDate'] - update_df['CreationDate_x']\n",
    "avg_edit_time = update_df['edit_time'].mean()\n",
    "print(f'The average time taken to edit a comment after an update is {avg_edit_time}.')\n"
   ]
  },
  {
   "cell_type": "code",
   "execution_count": 48,
   "id": "1b17e052",
   "metadata": {},
   "outputs": [
    {
     "name": "stdout",
     "output_type": "stream",
     "text": [
      "Number of comments edited within 0.003472222222222222 days: 4\n",
      "Percentage  1.10%\n",
      "Number of comments edited within 0.041666666666666664 days: 21\n",
      "Percentage  5.79%\n",
      "Number of comments edited within 1.0 days: 87\n",
      "Percentage  23.97%\n",
      "Number of comments edited within 7.0 days: 122\n",
      "Percentage  33.61%\n",
      "Number of comments edited within 365.0 days: 129\n",
      "Percentage  35.54%\n"
     ]
    }
   ],
   "source": [
    "time_intervals = [5*60, 60*60, 24*60*60, 7*24*60*60, 365*24*60*60]\n",
    "for interval in time_intervals:\n",
    "    count = ((update_df['edit_time'] >= pd.Timedelta(seconds=0)) & (update_df['edit_time'] <= pd.Timedelta(seconds=interval))).sum()\n",
    "    print(f'Number of comments edited within {interval/(60*60*24)} days: {count}')\n",
    "    percentage = (count / 363) * 100\n",
    "\n",
    "# Print the result\n",
    "    print(\"Percentage  {:.2f}%\".format(percentage))\n"
   ]
  },
  {
   "cell_type": "code",
   "execution_count": 49,
   "id": "a6851cc2",
   "metadata": {},
   "outputs": [],
   "source": [
    "#Research Question 3"
   ]
  },
  {
   "cell_type": "code",
   "execution_count": 41,
   "id": "14cedecd",
   "metadata": {},
   "outputs": [
    {
     "name": "stdout",
     "output_type": "stream",
     "text": [
      "Questioner addressed: 144\n",
      "Answerer addressed: 109\n",
      "Editor addressed: 5\n",
      "Other addressed:105\n"
     ]
    }
   ],
   "source": [
    "# Initialize counters for each category\n",
    "questioner_comments = 0\n",
    "answerer_comments = 0\n",
    "editor_comments = 0\n",
    "other_comments = 0\n",
    "\n",
    "# Loop over all rows in the DataFrame\n",
    "for i, row in df.iterrows():\n",
    "    if row['need_update'] == 'update':\n",
    "        if row['AdrressedbyCommentId'] == row['OwnerUserId']:\n",
    "            questioner_comments += 1\n",
    "        elif row['AdrressedbyCommentId'] == row['LastEditor_Userid']:\n",
    "            editor_comments += 1\n",
    "        elif row['AdrressedbyCommentId'] == row['answerer_Id']:\n",
    "            answerer_comments += 1\n",
    "        else:\n",
    "            other_comments += 1\n",
    "\n",
    "# Print the results\n",
    "print(f\"Questioner addressed: {questioner_comments}\")\n",
    "print(f\"Answerer addressed: {answerer_comments}\")\n",
    "print(f\"Editor addressed: {editor_comments}\")\n",
    "print(f\"Other addressed:{other_comments}\")"
   ]
  },
  {
   "cell_type": "code",
   "execution_count": null,
   "id": "e4a62abf",
   "metadata": {},
   "outputs": [],
   "source": []
  }
 ],
 "metadata": {
  "kernelspec": {
   "display_name": "Python 3 (ipykernel)",
   "language": "python",
   "name": "python3"
  },
  "language_info": {
   "codemirror_mode": {
    "name": "ipython",
    "version": 3
   },
   "file_extension": ".py",
   "mimetype": "text/x-python",
   "name": "python",
   "nbconvert_exporter": "python",
   "pygments_lexer": "ipython3",
   "version": "3.9.13"
  }
 },
 "nbformat": 4,
 "nbformat_minor": 5
}
