{
 "cells": [
  {
   "cell_type": "code",
   "execution_count": 1,
   "id": "c83937cf",
   "metadata": {},
   "outputs": [],
   "source": [
    "## Parsing posts.xml file from Stackoverflow data dump  and considering only python tagged posts"
   ]
  },
  {
   "cell_type": "code",
   "execution_count": 4,
   "id": "a39ac0d7",
   "metadata": {},
   "outputs": [],
   "source": [
    "#importing required libraries.\n",
    "import xml.etree.ElementTree as ET\n",
    "import pandas as pd\n",
    "\n",
    "# Specifying the path to the Posts.xml file\n",
    "posts_path = 'C:\\\\Users\\\\om\\\\Downloads\\\\datascience.stackexchange.com\\\\Posts.xml'"
   ]
  },
  {
   "cell_type": "code",
   "execution_count": 5,
   "id": "aef24904",
   "metadata": {},
   "outputs": [
    {
     "name": "stdout",
     "output_type": "stream",
     "text": [
      "Number of python-tagged posts: 870\n"
     ]
    }
   ],
   "source": [
    "# Define the python tag\n",
    "tag = '<python>'\n",
    "\n",
    "#  use of  ElementTree\n",
    "tree = ET.parse(posts_path)\n",
    "root = tree.getroot()\n",
    "\n",
    "# Loop through all posts and find those with the python tag\n",
    "python_posts = []\n",
    "for post in root.findall('row'):\n",
    "    tags = post.get('Tags')\n",
    "    score = int(post.get('Score'))\n",
    "    commentcount =int(post.get('CommentCount'))\n",
    "    acc_ans_id = post.get('AcceptedAnswerId')\n",
    "    \n",
    "    if tags and tag in tags and commentcount > 0 and acc_ans_id and score >= 0:\n",
    "        python_posts.append(post)\n",
    "\n",
    "# Print the number of python-tagged posts\n",
    "print(f'Number of python-tagged posts: {len(python_posts)}')\n"
   ]
  },
  {
   "cell_type": "code",
   "execution_count": 6,
   "id": "6af5267a",
   "metadata": {},
   "outputs": [],
   "source": [
    "#selecting random 384 posts\n",
    "import random\n",
    "selected_answers = random.sample(python_posts, 384)"
   ]
  },
  {
   "cell_type": "code",
   "execution_count": 7,
   "id": "cd60e10b",
   "metadata": {},
   "outputs": [
    {
     "name": "stdout",
     "output_type": "stream",
     "text": [
      "384\n"
     ]
    }
   ],
   "source": [
    "print(len(selected_answers))"
   ]
  },
  {
   "cell_type": "code",
   "execution_count": 8,
   "id": "e7bbc005",
   "metadata": {},
   "outputs": [
    {
     "data": {
      "text/plain": [
       "220"
      ]
     },
     "execution_count": 8,
     "metadata": {},
     "output_type": "execute_result"
    }
   ],
   "source": [
    "import csv\n",
    "\n",
    "# Specify the path to the python.CSV file\n",
    "csv_path = 'python_posts.csv'\n",
    "\n",
    "# Create a CSV writer object\n",
    "csv_file = open(csv_path, 'w', newline='', encoding='utf-8')\n",
    "csv_writer = csv.writer(csv_file)\n",
    "\n",
    "# Write the header row\n",
    "csv_writer.writerow(['Id', 'PostTypeId', 'CreationDate', 'Score', 'ViewCount', 'Tags', 'Title', 'Body','POSTTYPEID','ACCEPTEDANSWERID','ParentId','score','OwnerUserId','LastEditoruserid','LastActivityDate','LastEditDate','AnswerCount','CommentCount','closed_date','Community_owned_date'])\n",
    "\n"
   ]
  },
  {
   "cell_type": "code",
   "execution_count": 9,
   "id": "c2bda70b",
   "metadata": {},
   "outputs": [
    {
     "name": "stdout",
     "output_type": "stream",
     "text": [
      "python-tagged posts saved to python_posts.csv\n"
     ]
    }
   ],
   "source": [
    "# Loop through all python-tagged posts and write them to the CSV file\n",
    "for post in selected_answers:\n",
    "        body = post.get('Body')\n",
    "        id = post.get('Id')\n",
    "        post_type_id = post.get('PostTypeId')\n",
    "        creation_date = post.get('CreationDate')\n",
    "        score = post.get('Score')\n",
    "        view_count = post.get('ViewCount')\n",
    "        tags = post.get('Tags')\n",
    "        title = post.get('Title')\n",
    "        body = post.get('Body')\n",
    "        POSTTYPEID = post.get('PostTypeId')\n",
    "        ACCEPTEDANSWERID = post.get('AcceptedAnswerId')\n",
    "        ParentId = post.get('ParentId')\n",
    "        score = post.get('Score')\n",
    "        OwnerUserId = post.get('OwnerUserId')\n",
    "        LastEditoruserid = post.get('LastEditorUserId')\n",
    "        LastActivityDate = post.get('LastActivityDate')\n",
    "        LastEditDate = post.get('LastEditDate')\n",
    "        AnswerCount = post.get('AnswerCount')\n",
    "        CommentCount = post.get('CommentCount')\n",
    "        closed_date = post.get('ClosedDate')\n",
    "        Community_owned_date = post.get('CommunityOwnedDate')\n",
    "\n",
    "        # Write the row to the CSV file\n",
    "        csv_writer.writerow([id, post_type_id, creation_date, score, view_count, tags, title, body,POSTTYPEID,ACCEPTEDANSWERID,ParentId,score,OwnerUserId,LastEditoruserid,LastActivityDate,LastEditDate,AnswerCount,CommentCount,closed_date,Community_owned_date])\n",
    "\n",
    "# Close the CSV file\n",
    "csv_file.close()\n",
    "\n",
    "# Print a message indicating that the CSV file has been saved\n",
    "print(f'python-tagged posts saved to {csv_path}')\n"
   ]
  },
  {
   "cell_type": "code",
   "execution_count": 10,
   "id": "33c3c41d",
   "metadata": {},
   "outputs": [],
   "source": [
    "## Parsing comments.xml file"
   ]
  },
  {
   "cell_type": "code",
   "execution_count": 13,
   "id": "f46e0ab3",
   "metadata": {},
   "outputs": [],
   "source": [
    "\n",
    "# Specifying the path to the Comments.xml file\n",
    "comments_path = \"C:\\\\Users\\\\om\\\\Downloads\\\\datascience.stackexchange.com\\\\Comments.xml\"\n",
    "\n",
    "# Specify the path to the comments.CSV file\n",
    "csv_path = \"comments.csv\""
   ]
  },
  {
   "cell_type": "code",
   "execution_count": 14,
   "id": "c23819ef",
   "metadata": {},
   "outputs": [],
   "source": [
    "# Defining the field names for the CSV file\n",
    "field_names = [\"Id\", \"PostId\", \"Score\", \"Text\", \"CreationDate\", \"UserId\"]"
   ]
  },
  {
   "cell_type": "code",
   "execution_count": 15,
   "id": "ac25727e",
   "metadata": {},
   "outputs": [],
   "source": [
    "# Create a new CSV file and write the header row\n",
    "with open(csv_path, \"w\", newline=\"\", encoding=\"utf-8\") as csvfile:\n",
    "    writer = csv.DictWriter(csvfile, fieldnames=field_names)\n",
    "    writer.writeheader()\n",
    "\n",
    "    # Parse the XML file and write each comment as a new row in the CSV file\n",
    "    tree = ET.parse(comments_path)\n",
    "    root = tree.getroot()\n",
    "    for child in root:\n",
    "        comment = {}\n",
    "        for field in field_names:\n",
    "            comment[field] = child.get(field)\n",
    "        writer.writerow(comment)"
   ]
  },
  {
   "cell_type": "code",
   "execution_count": 16,
   "id": "426c4ccb",
   "metadata": {},
   "outputs": [],
   "source": [
    "## merging and filtering csv files "
   ]
  },
  {
   "cell_type": "code",
   "execution_count": 17,
   "id": "eda9f36b",
   "metadata": {},
   "outputs": [],
   "source": [
    "# Load the dataframes\n",
    "posts_df = pd.read_csv('python_posts.csv')\n",
    "comments_df = pd.read_csv('comments.csv')\n"
   ]
  },
  {
   "cell_type": "code",
   "execution_count": 18,
   "id": "78173c21",
   "metadata": {},
   "outputs": [],
   "source": [
    "# Merge the two dataframes based on the 'PostId' column\n",
    "merged_df = pd.merge(posts_df, comments_df, left_on='Id', right_on='PostId') \n",
    "\n",
    "desired_columns = ['Id_x', 'Tags', 'ACCEPTEDANSWERID', 'OwnerUserId', 'LastEditoruserid','Id_y','Score_x','Text','CreationDate_y','UserId']\n",
    "merged_df = merged_df[desired_columns]\n",
    "\n",
    "merged_df.rename(columns={'Id_x': 'QuestionId','Id_y':'commentId','Score_x':'Score','CreationDate_y':'CreationDate','UserId':'AdrressedbyCommentId','ACCEPTEDANSWERID':'answer_Id','LastEditoruserid':'LastEditor_Userid'}, inplace=True)\n",
    "\n",
    "\n"
   ]
  },
  {
   "cell_type": "code",
   "execution_count": 19,
   "id": "8ff87f7f",
   "metadata": {},
   "outputs": [],
   "source": [
    "merged_df = merged_df[merged_df['Score']>= 0]#only consider comments score >=0"
   ]
  },
  {
   "cell_type": "code",
   "execution_count": 20,
   "id": "cccf596b",
   "metadata": {},
   "outputs": [],
   "source": [
    "# Save the merged dataframe to a CSV file\n",
    "merged_df.to_csv('python_comments_posts.csv', index=False)#dataset which has 1069 rows"
   ]
  },
  {
   "cell_type": "code",
   "execution_count": 1,
   "id": "a6736ea3",
   "metadata": {},
   "outputs": [],
   "source": [
    "#we added addressed_in column and need_update column munually."
   ]
  },
  {
   "cell_type": "code",
   "execution_count": null,
   "id": "b0efafcf",
   "metadata": {},
   "outputs": [],
   "source": []
  }
 ],
 "metadata": {
  "kernelspec": {
   "display_name": "Python 3 (ipykernel)",
   "language": "python",
   "name": "python3"
  },
  "language_info": {
   "codemirror_mode": {
    "name": "ipython",
    "version": 3
   },
   "file_extension": ".py",
   "mimetype": "text/x-python",
   "name": "python",
   "nbconvert_exporter": "python",
   "pygments_lexer": "ipython3",
   "version": "3.9.13"
  }
 },
 "nbformat": 4,
 "nbformat_minor": 5
}
